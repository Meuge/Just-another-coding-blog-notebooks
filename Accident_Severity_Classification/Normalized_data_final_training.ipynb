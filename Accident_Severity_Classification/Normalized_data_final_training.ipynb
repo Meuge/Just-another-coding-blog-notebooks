{
 "cells": [
  {
   "cell_type": "code",
   "execution_count": 0,
   "metadata": {
    "colab": {},
    "colab_type": "code",
    "id": "Ly2Fps63stJv"
   },
   "outputs": [],
   "source": [
    "#IMPORT LIBRARIES\n",
    "import pandas as pd\n",
    "import numpy as np\n",
    "import matplotlib.pyplot as plt\n",
    "import seaborn as sns\n",
    "%matplotlib inline\n",
    "from sklearn.model_selection import train_test_split\n",
    "from sklearn.linear_model import LogisticRegression\n",
    "from sklearn.metrics import multilabel_confusion_matrix\n",
    "from sklearn.model_selection import GridSearchCV\n",
    "from sklearn.metrics import confusion_matrix, accuracy_score\n",
    "from sklearn.naive_bayes import GaussianNB\n",
    "from sklearn.ensemble import ExtraTreesClassifier, RandomForestClassifier, RandomForestRegressor, AdaBoostClassifier, BaggingClassifier\n",
    "from sklearn.tree import DecisionTreeClassifier"
   ]
  },
  {
   "cell_type": "code",
   "execution_count": 0,
   "metadata": {
    "colab": {},
    "colab_type": "code",
    "id": "WAXgj7sdstJ0",
    "outputId": "948b8b89-5ab1-4dbe-95c7-822eddca1588"
   },
   "outputs": [
    {
     "data": {
      "text/plain": [
       "Astronomical_Twilight          2\n",
       "Bump                           2\n",
       "Crossing                       2\n",
       "Give_Way                       2\n",
       "Junction                       2\n",
       "No_Exit                        2\n",
       "Railway                        2\n",
       "Nautical_Twilight              2\n",
       "Roundabout                     2\n",
       "Stop                           2\n",
       "Traffic_Calming                2\n",
       "Side                           2\n",
       "Traffic_Signal                 2\n",
       "Sunrise_Sunset                 2\n",
       "Civil_Twilight                 2\n",
       "Station                        2\n",
       "Amenity                        2\n",
       "Severity                       4\n",
       "Timezone                       4\n",
       "State                         49\n",
       "Weather_Condition            120\n",
       "County                      1687\n",
       "Visibility(mi)              2226\n",
       "Pressure(in)                2557\n",
       "Temperature(F)              4408\n",
       "Humidity(%)                 4564\n",
       "Wind_Speed(mph)             6649\n",
       "City                       11378\n",
       "Zipcode                    20733\n",
       "Start_Lng                 965414\n",
       "Start_Lat                 982820\n",
       "Start_Time               2692655\n",
       "dtype: int64"
      ]
     },
     "execution_count": 4,
     "metadata": {
      "tags": []
     },
     "output_type": "execute_result"
    }
   ],
   "source": [
    "#LOAD DATA\n",
    "us_accident_data = pd.read_csv('./us_accident_data_pruned.csv')\n",
    "us_accident_data = us_accident_data.drop(['Unnamed: 0'], axis=1)\n",
    "us_accident_data.nunique().sort_values()"
   ]
  },
  {
   "cell_type": "code",
   "execution_count": 0,
   "metadata": {
    "colab": {},
    "colab_type": "code",
    "id": "PHymxBKSstJ5",
    "outputId": "dbdf258e-2d46-404f-ae11-de638df752f5"
   },
   "outputs": [
    {
     "data": {
      "text/html": [
       "<div>\n",
       "<style scoped>\n",
       "    .dataframe tbody tr th:only-of-type {\n",
       "        vertical-align: middle;\n",
       "    }\n",
       "\n",
       "    .dataframe tbody tr th {\n",
       "        vertical-align: top;\n",
       "    }\n",
       "\n",
       "    .dataframe thead th {\n",
       "        text-align: right;\n",
       "    }\n",
       "</style>\n",
       "<table border=\"1\" class=\"dataframe\">\n",
       "  <thead>\n",
       "    <tr style=\"text-align: right;\">\n",
       "      <th></th>\n",
       "      <th>Severity</th>\n",
       "      <th>Start_Time</th>\n",
       "      <th>Start_Lat</th>\n",
       "      <th>Start_Lng</th>\n",
       "      <th>Side</th>\n",
       "      <th>City</th>\n",
       "      <th>County</th>\n",
       "      <th>State</th>\n",
       "      <th>Zipcode</th>\n",
       "      <th>Timezone</th>\n",
       "      <th>...</th>\n",
       "      <th>Railway</th>\n",
       "      <th>Roundabout</th>\n",
       "      <th>Station</th>\n",
       "      <th>Stop</th>\n",
       "      <th>Traffic_Calming</th>\n",
       "      <th>Traffic_Signal</th>\n",
       "      <th>Sunrise_Sunset</th>\n",
       "      <th>Civil_Twilight</th>\n",
       "      <th>Nautical_Twilight</th>\n",
       "      <th>Astronomical_Twilight</th>\n",
       "    </tr>\n",
       "  </thead>\n",
       "  <tbody>\n",
       "    <tr>\n",
       "      <th>0</th>\n",
       "      <td>3.0</td>\n",
       "      <td>2016-02-08 00:46:00</td>\n",
       "      <td>39.865147</td>\n",
       "      <td>-84.058723</td>\n",
       "      <td>R</td>\n",
       "      <td>DAYTON</td>\n",
       "      <td>MONTGOMERY</td>\n",
       "      <td>OH</td>\n",
       "      <td>45424</td>\n",
       "      <td>EST</td>\n",
       "      <td>...</td>\n",
       "      <td>0.0</td>\n",
       "      <td>0.0</td>\n",
       "      <td>0.0</td>\n",
       "      <td>0.0</td>\n",
       "      <td>0.0</td>\n",
       "      <td>0.0</td>\n",
       "      <td>Night</td>\n",
       "      <td>Night</td>\n",
       "      <td>Night</td>\n",
       "      <td>Night</td>\n",
       "    </tr>\n",
       "    <tr>\n",
       "      <th>1</th>\n",
       "      <td>2.0</td>\n",
       "      <td>2016-02-08 01:07:59</td>\n",
       "      <td>39.928059</td>\n",
       "      <td>-82.831184</td>\n",
       "      <td>L</td>\n",
       "      <td>REYNOLDSBURG</td>\n",
       "      <td>FRANKLIN</td>\n",
       "      <td>OH</td>\n",
       "      <td>43068</td>\n",
       "      <td>EST</td>\n",
       "      <td>...</td>\n",
       "      <td>0.0</td>\n",
       "      <td>0.0</td>\n",
       "      <td>0.0</td>\n",
       "      <td>0.0</td>\n",
       "      <td>0.0</td>\n",
       "      <td>0.0</td>\n",
       "      <td>Night</td>\n",
       "      <td>Night</td>\n",
       "      <td>Night</td>\n",
       "      <td>Day</td>\n",
       "    </tr>\n",
       "    <tr>\n",
       "      <th>2</th>\n",
       "      <td>2.0</td>\n",
       "      <td>2016-02-08 01:49:27</td>\n",
       "      <td>39.063148</td>\n",
       "      <td>-84.032608</td>\n",
       "      <td>R</td>\n",
       "      <td>WILLIAMSBURG</td>\n",
       "      <td>CLERMONT</td>\n",
       "      <td>OH</td>\n",
       "      <td>45176</td>\n",
       "      <td>EST</td>\n",
       "      <td>...</td>\n",
       "      <td>0.0</td>\n",
       "      <td>0.0</td>\n",
       "      <td>0.0</td>\n",
       "      <td>0.0</td>\n",
       "      <td>0.0</td>\n",
       "      <td>1.0</td>\n",
       "      <td>Night</td>\n",
       "      <td>Night</td>\n",
       "      <td>Day</td>\n",
       "      <td>Day</td>\n",
       "    </tr>\n",
       "    <tr>\n",
       "      <th>3</th>\n",
       "      <td>3.0</td>\n",
       "      <td>2016-02-08 02:23:34</td>\n",
       "      <td>39.747753</td>\n",
       "      <td>-84.205582</td>\n",
       "      <td>R</td>\n",
       "      <td>DAYTON</td>\n",
       "      <td>MONTGOMERY</td>\n",
       "      <td>OH</td>\n",
       "      <td>45417</td>\n",
       "      <td>EST</td>\n",
       "      <td>...</td>\n",
       "      <td>0.0</td>\n",
       "      <td>0.0</td>\n",
       "      <td>0.0</td>\n",
       "      <td>0.0</td>\n",
       "      <td>0.0</td>\n",
       "      <td>0.0</td>\n",
       "      <td>Night</td>\n",
       "      <td>Day</td>\n",
       "      <td>Day</td>\n",
       "      <td>Day</td>\n",
       "    </tr>\n",
       "    <tr>\n",
       "      <th>4</th>\n",
       "      <td>2.0</td>\n",
       "      <td>2016-02-08 02:39:07</td>\n",
       "      <td>39.627781</td>\n",
       "      <td>-84.188354</td>\n",
       "      <td>R</td>\n",
       "      <td>DAYTON</td>\n",
       "      <td>MONTGOMERY</td>\n",
       "      <td>OH</td>\n",
       "      <td>45459</td>\n",
       "      <td>EST</td>\n",
       "      <td>...</td>\n",
       "      <td>0.0</td>\n",
       "      <td>0.0</td>\n",
       "      <td>0.0</td>\n",
       "      <td>0.0</td>\n",
       "      <td>0.0</td>\n",
       "      <td>1.0</td>\n",
       "      <td>Day</td>\n",
       "      <td>Day</td>\n",
       "      <td>Day</td>\n",
       "      <td>Day</td>\n",
       "    </tr>\n",
       "    <tr>\n",
       "      <th>5</th>\n",
       "      <td>3.0</td>\n",
       "      <td>2016-02-08 02:44:26</td>\n",
       "      <td>40.100590</td>\n",
       "      <td>-82.925194</td>\n",
       "      <td>R</td>\n",
       "      <td>WESTERVILLE</td>\n",
       "      <td>FRANKLIN</td>\n",
       "      <td>OH</td>\n",
       "      <td>43081</td>\n",
       "      <td>EST</td>\n",
       "      <td>...</td>\n",
       "      <td>0.0</td>\n",
       "      <td>0.0</td>\n",
       "      <td>0.0</td>\n",
       "      <td>0.0</td>\n",
       "      <td>0.0</td>\n",
       "      <td>0.0</td>\n",
       "      <td>Day</td>\n",
       "      <td>Day</td>\n",
       "      <td>Day</td>\n",
       "      <td>Day</td>\n",
       "    </tr>\n",
       "    <tr>\n",
       "      <th>6</th>\n",
       "      <td>2.0</td>\n",
       "      <td>2016-02-08 02:59:35</td>\n",
       "      <td>39.758274</td>\n",
       "      <td>-84.230507</td>\n",
       "      <td>R</td>\n",
       "      <td>DAYTON</td>\n",
       "      <td>MONTGOMERY</td>\n",
       "      <td>OH</td>\n",
       "      <td>45417</td>\n",
       "      <td>EST</td>\n",
       "      <td>...</td>\n",
       "      <td>0.0</td>\n",
       "      <td>0.0</td>\n",
       "      <td>0.0</td>\n",
       "      <td>0.0</td>\n",
       "      <td>0.0</td>\n",
       "      <td>0.0</td>\n",
       "      <td>Day</td>\n",
       "      <td>Day</td>\n",
       "      <td>Day</td>\n",
       "      <td>Day</td>\n",
       "    </tr>\n",
       "    <tr>\n",
       "      <th>7</th>\n",
       "      <td>3.0</td>\n",
       "      <td>2016-02-08 02:59:58</td>\n",
       "      <td>39.770382</td>\n",
       "      <td>-84.194901</td>\n",
       "      <td>R</td>\n",
       "      <td>DAYTON</td>\n",
       "      <td>MONTGOMERY</td>\n",
       "      <td>OH</td>\n",
       "      <td>45405</td>\n",
       "      <td>EST</td>\n",
       "      <td>...</td>\n",
       "      <td>0.0</td>\n",
       "      <td>0.0</td>\n",
       "      <td>0.0</td>\n",
       "      <td>0.0</td>\n",
       "      <td>0.0</td>\n",
       "      <td>0.0</td>\n",
       "      <td>Day</td>\n",
       "      <td>Day</td>\n",
       "      <td>Day</td>\n",
       "      <td>Day</td>\n",
       "    </tr>\n",
       "    <tr>\n",
       "      <th>8</th>\n",
       "      <td>2.0</td>\n",
       "      <td>2016-02-08 03:00:40</td>\n",
       "      <td>39.778061</td>\n",
       "      <td>-84.172005</td>\n",
       "      <td>L</td>\n",
       "      <td>DAYTON</td>\n",
       "      <td>MONTGOMERY</td>\n",
       "      <td>OH</td>\n",
       "      <td>45404</td>\n",
       "      <td>EST</td>\n",
       "      <td>...</td>\n",
       "      <td>0.0</td>\n",
       "      <td>0.0</td>\n",
       "      <td>0.0</td>\n",
       "      <td>0.0</td>\n",
       "      <td>0.0</td>\n",
       "      <td>0.0</td>\n",
       "      <td>Day</td>\n",
       "      <td>Day</td>\n",
       "      <td>Day</td>\n",
       "      <td>Day</td>\n",
       "    </tr>\n",
       "    <tr>\n",
       "      <th>9</th>\n",
       "      <td>3.0</td>\n",
       "      <td>2016-02-08 03:10:04</td>\n",
       "      <td>40.100590</td>\n",
       "      <td>-82.925194</td>\n",
       "      <td>R</td>\n",
       "      <td>WESTERVILLE</td>\n",
       "      <td>FRANKLIN</td>\n",
       "      <td>OH</td>\n",
       "      <td>43081</td>\n",
       "      <td>EST</td>\n",
       "      <td>...</td>\n",
       "      <td>0.0</td>\n",
       "      <td>0.0</td>\n",
       "      <td>0.0</td>\n",
       "      <td>0.0</td>\n",
       "      <td>0.0</td>\n",
       "      <td>0.0</td>\n",
       "      <td>Day</td>\n",
       "      <td>Day</td>\n",
       "      <td>Day</td>\n",
       "      <td>Day</td>\n",
       "    </tr>\n",
       "  </tbody>\n",
       "</table>\n",
       "<p>10 rows × 32 columns</p>\n",
       "</div>"
      ],
      "text/plain": [
       "   Severity           Start_Time  Start_Lat  Start_Lng Side          City  \\\n",
       "0       3.0  2016-02-08 00:46:00  39.865147 -84.058723    R        DAYTON   \n",
       "1       2.0  2016-02-08 01:07:59  39.928059 -82.831184    L  REYNOLDSBURG   \n",
       "2       2.0  2016-02-08 01:49:27  39.063148 -84.032608    R  WILLIAMSBURG   \n",
       "3       3.0  2016-02-08 02:23:34  39.747753 -84.205582    R        DAYTON   \n",
       "4       2.0  2016-02-08 02:39:07  39.627781 -84.188354    R        DAYTON   \n",
       "5       3.0  2016-02-08 02:44:26  40.100590 -82.925194    R   WESTERVILLE   \n",
       "6       2.0  2016-02-08 02:59:35  39.758274 -84.230507    R        DAYTON   \n",
       "7       3.0  2016-02-08 02:59:58  39.770382 -84.194901    R        DAYTON   \n",
       "8       2.0  2016-02-08 03:00:40  39.778061 -84.172005    L        DAYTON   \n",
       "9       3.0  2016-02-08 03:10:04  40.100590 -82.925194    R   WESTERVILLE   \n",
       "\n",
       "       County State  Zipcode Timezone          ...            Railway  \\\n",
       "0  MONTGOMERY    OH    45424      EST          ...                0.0   \n",
       "1    FRANKLIN    OH    43068      EST          ...                0.0   \n",
       "2    CLERMONT    OH    45176      EST          ...                0.0   \n",
       "3  MONTGOMERY    OH    45417      EST          ...                0.0   \n",
       "4  MONTGOMERY    OH    45459      EST          ...                0.0   \n",
       "5    FRANKLIN    OH    43081      EST          ...                0.0   \n",
       "6  MONTGOMERY    OH    45417      EST          ...                0.0   \n",
       "7  MONTGOMERY    OH    45405      EST          ...                0.0   \n",
       "8  MONTGOMERY    OH    45404      EST          ...                0.0   \n",
       "9    FRANKLIN    OH    43081      EST          ...                0.0   \n",
       "\n",
       "   Roundabout  Station  Stop  Traffic_Calming Traffic_Signal  Sunrise_Sunset  \\\n",
       "0         0.0      0.0   0.0              0.0            0.0           Night   \n",
       "1         0.0      0.0   0.0              0.0            0.0           Night   \n",
       "2         0.0      0.0   0.0              0.0            1.0           Night   \n",
       "3         0.0      0.0   0.0              0.0            0.0           Night   \n",
       "4         0.0      0.0   0.0              0.0            1.0             Day   \n",
       "5         0.0      0.0   0.0              0.0            0.0             Day   \n",
       "6         0.0      0.0   0.0              0.0            0.0             Day   \n",
       "7         0.0      0.0   0.0              0.0            0.0             Day   \n",
       "8         0.0      0.0   0.0              0.0            0.0             Day   \n",
       "9         0.0      0.0   0.0              0.0            0.0             Day   \n",
       "\n",
       "   Civil_Twilight  Nautical_Twilight  Astronomical_Twilight  \n",
       "0           Night              Night                  Night  \n",
       "1           Night              Night                    Day  \n",
       "2           Night                Day                    Day  \n",
       "3             Day                Day                    Day  \n",
       "4             Day                Day                    Day  \n",
       "5             Day                Day                    Day  \n",
       "6             Day                Day                    Day  \n",
       "7             Day                Day                    Day  \n",
       "8             Day                Day                    Day  \n",
       "9             Day                Day                    Day  \n",
       "\n",
       "[10 rows x 32 columns]"
      ]
     },
     "execution_count": 5,
     "metadata": {
      "tags": []
     },
     "output_type": "execute_result"
    }
   ],
   "source": [
    "us_accident_data.head(10)"
   ]
  },
  {
   "cell_type": "code",
   "execution_count": 0,
   "metadata": {
    "colab": {},
    "colab_type": "code",
    "id": "E8ukUugYstJ8"
   },
   "outputs": [],
   "source": [
    "us_accident_data['City'] = us_accident_data['State'] + '__' + us_accident_data['County'] + '__' + us_accident_data['City']\n",
    "us_accident_data['County'] = us_accident_data['State'] + '__' + us_accident_data['County']"
   ]
  },
  {
   "cell_type": "code",
   "execution_count": 0,
   "metadata": {
    "colab": {},
    "colab_type": "code",
    "id": "J4o_2KycstJ_"
   },
   "outputs": [],
   "source": [
    "# PREPROCESING\n",
    "us_accident_data.Zipcode = us_accident_data.Zipcode.astype(int)\n",
    "us_accident_data = us_accident_data.replace([True, False], [1,0])\n",
    "us_accident_data['Sunrise_Sunset'] = us_accident_data['Sunrise_Sunset'].replace(['Day', 'Night'], [1,-1])\n",
    "us_accident_data['Civil_Twilight'] = us_accident_data['Civil_Twilight'].replace(['Day', 'Night'], [1,-1])\n",
    "us_accident_data['Nautical_Twilight'] = us_accident_data['Nautical_Twilight'].replace(['Day', 'Night'], [1,-1])\n",
    "us_accident_data['Astronomical_Twilight'] = us_accident_data['Astronomical_Twilight'].replace(['Day', 'Night'], [1,-1])\n",
    "us_accident_data['Side'] = us_accident_data['Side'].replace(['R', 'L'], [1,-1])"
   ]
  },
  {
   "cell_type": "code",
   "execution_count": 0,
   "metadata": {
    "colab": {},
    "colab_type": "code",
    "id": "Oy8zPkh0stKC"
   },
   "outputs": [],
   "source": [
    "# CONVERT START TIME TO SPECIFIC COLUMNS INFO\n",
    "us_accident_data['Start_Time'] = pd.to_datetime(us_accident_data['Start_Time'], format = '%Y-%m-%dT%H:%M:%S')\n",
    "us_accident_data['Year'] = us_accident_data['Start_Time'].dt.year\n",
    "us_accident_data['Month'] = us_accident_data['Start_Time'].dt.month\n",
    "us_accident_data['Week'] = us_accident_data['Start_Time'].dt.week\n",
    "us_accident_data['Day'] = us_accident_data['Start_Time'].dt.day\n",
    "us_accident_data['Hour'] = us_accident_data['Start_Time'].dt.hour\n",
    "us_accident_data['Minute'] = us_accident_data['Start_Time'].dt.minute\n",
    "us_accident_data = us_accident_data.drop(['Start_Time'], axis=1)"
   ]
  },
  {
   "cell_type": "code",
   "execution_count": 0,
   "metadata": {
    "colab": {},
    "colab_type": "code",
    "id": "A0FVxxn_stKF"
   },
   "outputs": [],
   "source": [
    "# WE CANNOT USE HOT ENCONDIG DUE TO RAM LIMITATION\n",
    "# import labelencoder\n",
    "from sklearn.preprocessing import LabelEncoder\n",
    "# instantiate labelencoder object\n",
    "le_city = LabelEncoder()\n",
    "le_city.fit(us_accident_data.City)\n",
    "us_accident_data['City'] = le_city.transform(us_accident_data['City'])\n",
    "le_county = LabelEncoder()\n",
    "le_county.fit(us_accident_data.County)\n",
    "us_accident_data['County'] = le_county.transform(us_accident_data['County'])\n",
    "le_state = LabelEncoder()\n",
    "le_state.fit(us_accident_data.State)\n",
    "us_accident_data['State'] = le_state.transform(us_accident_data['State'])\n",
    "le_timezone = LabelEncoder()\n",
    "le_timezone.fit(us_accident_data.Timezone)\n",
    "us_accident_data['Timezone'] = le_timezone.transform(us_accident_data['Timezone'])\n",
    "le_weather = LabelEncoder()\n",
    "le_weather.fit(us_accident_data.Weather_Condition)\n",
    "us_accident_data['Weather_Condition'] = le_weather.transform(us_accident_data['Weather_Condition'])"
   ]
  },
  {
   "cell_type": "code",
   "execution_count": 0,
   "metadata": {
    "colab": {},
    "colab_type": "code",
    "id": "7RTBDnTQstKK",
    "outputId": "f7f0dfe4-fa50-4afc-fbad-74a686ee3391"
   },
   "outputs": [
    {
     "name": "stdout",
     "output_type": "stream",
     "text": [
      "{1.0: 947, 2.0: 1953141, 3.0: 864880, 4.0: 89354}\n",
      "{1.0: 2061, 2.0: 0, 3.0: 1, 4.0: 21}\n"
     ]
    }
   ],
   "source": [
    "cases_by_severity = {k:us_accident_data[us_accident_data.Severity == k] for k in set(us_accident_data.Severity)}\n",
    "cases_by_severity_quantity = {k:len(cases_by_severity[k]) for k in cases_by_severity.keys()}\n",
    "max_severity_quantity = max(cases_by_severity_quantity.values())\n",
    "needed_to_normalize = {k:round(max_severity_quantity/v) - 1 for k,v in cases_by_severity_quantity.items()}\n",
    "print(cases_by_severity_quantity)\n",
    "print(needed_to_normalize)"
   ]
  },
  {
   "cell_type": "code",
   "execution_count": 0,
   "metadata": {
    "colab": {},
    "colab_type": "code",
    "id": "LPudxAaUstKN"
   },
   "outputs": [],
   "source": [
    "for k, times in needed_to_normalize.items():\n",
    "    aux = cases_by_severity[k]\n",
    "    if times > 0:\n",
    "        i = 1\n",
    "        while i * 2 < times:\n",
    "            aux = aux.append(aux,ignore_index = True)\n",
    "            i += i\n",
    "        while i < times:\n",
    "            aux = aux.append(cases_by_severity[k],ignore_index = True) \n",
    "            i += 1\n",
    "        us_accident_data = us_accident_data.append(aux,ignore_index = True) "
   ]
  },
  {
   "cell_type": "code",
   "execution_count": 0,
   "metadata": {
    "colab": {},
    "colab_type": "code",
    "id": "6ysAz9DRstKQ",
    "outputId": "379e0e95-7107-4951-c374-ae5721a9da34"
   },
   "outputs": [
    {
     "name": "stdout",
     "output_type": "stream",
     "text": [
      "{1.0: 1952714, 2.0: 1953141, 3.0: 1729760, 4.0: 1965788}\n",
      "{1.0: 0, 2.0: 0, 3.0: 0, 4.0: 0}\n"
     ]
    }
   ],
   "source": [
    "cases_by_severity = {k:us_accident_data[us_accident_data.Severity == k] for k in set(us_accident_data.Severity)}\n",
    "cases_by_severity_quantity = {k:len(cases_by_severity[k]) for k in cases_by_severity.keys()}\n",
    "max_severity_quantity = max(cases_by_severity_quantity.values())\n",
    "needed_to_normalize = {k:round(max_severity_quantity/v) - 1 for k,v in cases_by_severity_quantity.items()}\n",
    "print(cases_by_severity_quantity)\n",
    "print(needed_to_normalize)"
   ]
  },
  {
   "cell_type": "code",
   "execution_count": 0,
   "metadata": {
    "colab": {},
    "colab_type": "code",
    "id": "_7NHOAx3stKT"
   },
   "outputs": [],
   "source": [
    "# Set the target for the prediction\n",
    "target='Severity'\n",
    "y = us_accident_data[target]\n",
    "X = us_accident_data.drop(target, axis=1)\n",
    "\n",
    "# Split the data set into training and testing data sets\n",
    "X_train, X_test, y_train, y_test = train_test_split(X, y, test_size=0.2, random_state=21, stratify=y)\n",
    "# List of classification algorithms\n",
    "\n",
    "accuracy={}"
   ]
  },
  {
   "cell_type": "code",
   "execution_count": 0,
   "metadata": {
    "colab": {},
    "colab_type": "code",
    "id": "ZAOrT4KNstKV",
    "outputId": "4a81f252-850a-406d-b14d-4855017e6c90"
   },
   "outputs": [
    {
     "name": "stderr",
     "output_type": "stream",
     "text": [
      "[Parallel(n_jobs=3)]: Using backend ThreadingBackend with 3 concurrent workers.\n"
     ]
    },
    {
     "name": "stdout",
     "output_type": "stream",
     "text": [
      "building tree 1 of 100\n",
      "building tree 2 of 100building tree 3 of 100\n",
      "\n",
      "building tree 4 of 100\n",
      "building tree 5 of 100\n",
      "building tree 6 of 100\n",
      "building tree 7 of 100\n",
      "building tree 8 of 100\n",
      "building tree 9 of 100\n",
      "building tree 10 of 100\n",
      "building tree 11 of 100\n",
      "building tree 12 of 100\n",
      "building tree 13 of 100\n",
      "building tree 14 of 100\n",
      "building tree 15 of 100\n",
      "building tree 16 of 100\n",
      "building tree 17 of 100\n",
      "building tree 18 of 100\n",
      "building tree 19 of 100\n",
      "building tree 20 of 100\n",
      "building tree 21 of 100\n",
      "building tree 22 of 100\n",
      "building tree 23 of 100\n",
      "building tree 24 of 100\n",
      "building tree 25 of 100\n",
      "building tree 26 of 100\n",
      "building tree 27 of 100\n",
      "building tree 28 of 100\n",
      "building tree 29 of 100\n",
      "building tree 30 of 100\n",
      "building tree 31 of 100\n",
      "building tree 32 of 100\n",
      "building tree 33 of 100\n",
      "building tree 34 of 100\n",
      "building tree 35 of 100\n",
      "building tree 36 of 100\n",
      "building tree 37 of 100\n",
      "building tree 38 of 100\n"
     ]
    },
    {
     "name": "stderr",
     "output_type": "stream",
     "text": [
      "[Parallel(n_jobs=3)]: Done  35 tasks      | elapsed: 11.2min\n"
     ]
    },
    {
     "name": "stdout",
     "output_type": "stream",
     "text": [
      "building tree 39 of 100\n",
      "building tree 40 of 100\n",
      "building tree 41 of 100\n",
      "building tree 42 of 100\n",
      "building tree 43 of 100\n",
      "building tree 44 of 100\n",
      "building tree 45 of 100\n",
      "building tree 46 of 100\n",
      "building tree 47 of 100\n",
      "building tree 48 of 100\n",
      "building tree 49 of 100\n",
      "building tree 50 of 100\n",
      "building tree 51 of 100\n",
      "building tree 52 of 100\n",
      "building tree 53 of 100\n",
      "building tree 54 of 100\n",
      "building tree 55 of 100\n",
      "building tree 56 of 100\n",
      "building tree 57 of 100\n",
      "building tree 58 of 100\n",
      "building tree 59 of 100\n",
      "building tree 60 of 100\n",
      "building tree 61 of 100\n",
      "building tree 62 of 100\n",
      "building tree 63 of 100\n",
      "building tree 64 of 100\n",
      "building tree 65 of 100\n",
      "building tree 66 of 100\n",
      "building tree 67 of 100\n",
      "building tree 68 of 100\n",
      "building tree 69 of 100\n",
      "building tree 70 of 100\n",
      "building tree 71 of 100\n",
      "building tree 72 of 100\n",
      "building tree 73 of 100\n",
      "building tree 74 of 100\n",
      "building tree 75 of 100\n",
      "building tree 76 of 100\n",
      "building tree 77 of 100\n",
      "building tree 78 of 100\n",
      "building tree 79 of 100\n",
      "building tree 80 of 100\n",
      "building tree 81 of 100\n",
      "building tree 82 of 100\n",
      "building tree 83 of 100\n",
      "building tree 84 of 100\n",
      "building tree 85 of 100\n",
      "building tree 86 of 100\n",
      "building tree 87 of 100\n",
      "building tree 88 of 100\n",
      "building tree 89 of 100\n",
      "building tree 90 of 100\n",
      "building tree 91 of 100\n",
      "building tree 92 of 100\n",
      "building tree 93 of 100\n",
      "building tree 94 of 100\n",
      "building tree 95 of 100\n",
      "building tree 96 of 100\n",
      "building tree 97 of 100\n",
      "building tree 98 of 100\n",
      "building tree 99 of 100\n",
      "building tree 100 of 100\n"
     ]
    },
    {
     "name": "stderr",
     "output_type": "stream",
     "text": [
      "[Parallel(n_jobs=3)]: Done 100 out of 100 | elapsed: 32.0min finished\n",
      "[Parallel(n_jobs=3)]: Using backend ThreadingBackend with 3 concurrent workers.\n",
      "[Parallel(n_jobs=3)]: Done  35 tasks      | elapsed:   19.3s\n",
      "[Parallel(n_jobs=3)]: Done 100 out of 100 | elapsed:   54.5s finished\n"
     ]
    },
    {
     "name": "stdout",
     "output_type": "stream",
     "text": [
      "0.9487450017463877\n"
     ]
    }
   ],
   "source": [
    "### Random Forest\n",
    "random_forest_clf = RandomForestClassifier(n_estimators=100, random_state=0, verbose=2, n_jobs=3)\n",
    "random_forest_clf.fit(X_train, y_train)\n",
    "y_pred_rf=random_forest_clf.predict(X_test)\n",
    "acc_rf= accuracy_score(y_test, y_pred_rf)\n",
    "print(acc_rf)"
   ]
  },
  {
   "cell_type": "code",
   "execution_count": 0,
   "metadata": {
    "colab": {},
    "colab_type": "code",
    "id": "bD8I_aPcstKa"
   },
   "outputs": [],
   "source": [
    "### Fast Trees\n",
    "fast_trees_clf = ExtraTreesClassifier(n_estimators=100, random_state=0, verbose=2, n_jobs=3)\n",
    "fast_trees_clf.fit(X_train, y_train)\n",
    "y_pred_ft=fast_trees_clf.predict(X_test)\n",
    "acc_ft= accuracy_score(y_test, y_pred_ft)\n",
    "print(acc_ft)"
   ]
  },
  {
   "cell_type": "code",
   "execution_count": 0,
   "metadata": {
    "colab": {},
    "colab_type": "code",
    "id": "pwO5Q9C5stKc",
    "outputId": "09ee6c81-2938-40a5-9220-86f849d4b0cd"
   },
   "outputs": [
    {
     "name": "stdout",
     "output_type": "stream",
     "text": [
      "0.4550546905473396\n"
     ]
    }
   ],
   "source": [
    "# Adaboost Classifier\n",
    "ada_clf = AdaBoostClassifier(n_estimators=100)\n",
    "ada_clf.fit(X_train, y_train)\n",
    "y_pred_ada=ada_clf.predict(X_test)\n",
    "acc_ada= accuracy_score(y_test, y_pred_ada)\n",
    "print(acc_ada)"
   ]
  },
  {
   "cell_type": "code",
   "execution_count": 0,
   "metadata": {
    "colab": {},
    "colab_type": "code",
    "id": "ptkbQCL1stKf",
    "outputId": "694520f5-c663-4275-d88f-30d85ea1d055"
   },
   "outputs": [
    {
     "name": "stdout",
     "output_type": "stream",
     "text": [
      "0.9068757683612437\n"
     ]
    }
   ],
   "source": [
    "# Decision Tree\n",
    "tc_clf = DecisionTreeClassifier(max_depth=30, criterion='entropy', random_state=1)\n",
    "tc_clf.fit(X_train, y_train)\n",
    "y_pred_tc= tc_clf.predict(X_test)\n",
    "acc_tc = accuracy_score(y_test, y_pred_tc)\n",
    "print(acc_tc)"
   ]
  },
  {
   "cell_type": "code",
   "execution_count": 0,
   "metadata": {
    "colab": {},
    "colab_type": "code",
    "id": "r3oAHk5EstKj",
    "outputId": "c97ea07f-1017-434f-d25b-6012a4848ba6"
   },
   "outputs": [
    {
     "name": "stderr",
     "output_type": "stream",
     "text": [
      "[Parallel(n_jobs=3)]: Using backend LokyBackend with 3 concurrent workers.\n",
      "[Parallel(n_jobs=3)]: Done   1 out of   1 | elapsed: 11.6min finished\n"
     ]
    },
    {
     "name": "stdout",
     "output_type": "stream",
     "text": [
      "0.30515411295674943\n"
     ]
    }
   ],
   "source": [
    "# Logistic Regression\n",
    "lr_clf = LogisticRegression(random_state=0, verbose=2, n_jobs=3) # WITH L2 REGULATION\n",
    "lr_clf.fit(X_train, y_train)\n",
    "y_pred_lr=lr_clf.predict(X_test)\n",
    "acc_lr= accuracy_score(y_test, y_pred_lr)\n",
    "print(acc_lr)"
   ]
  },
  {
   "cell_type": "code",
   "execution_count": 0,
   "metadata": {
    "colab": {},
    "colab_type": "code",
    "id": "fHT-NJRXstKm"
   },
   "outputs": [],
   "source": [
    "# Bagging\n",
    "bg_clf = BaggingClassifier(n_estimators=100, n_jobs=3, verbose=2)\n",
    "bg_clf.fit(X_train, y_train)\n",
    "y_pred_bg= bg_clf.predict(X_test)\n",
    "acc_bg = accuracy_score(y_test, y_pred_bg)\n",
    "print(acc_bg)"
   ]
  },
  {
   "cell_type": "code",
   "execution_count": 0,
   "metadata": {
    "colab": {},
    "colab_type": "code",
    "id": "Zhzcwsm_stKq",
    "outputId": "60145a30-d7fc-4733-bee4-3a0b199a105f"
   },
   "outputs": [
    {
     "name": "stderr",
     "output_type": "stream",
     "text": [
      "[Parallel(n_jobs=3)]: Using backend ThreadingBackend with 3 concurrent workers.\n"
     ]
    },
    {
     "name": "stdout",
     "output_type": "stream",
     "text": [
      "building tree 1 of 100\n",
      "building tree 2 of 100\n",
      "building tree 3 of 100\n",
      "building tree 4 of 100building tree 5 of 100\n",
      "\n",
      "building tree 6 of 100\n",
      "building tree 7 of 100\n",
      "building tree 8 of 100building tree 9 of 100\n",
      "\n",
      "building tree 10 of 100\n",
      "building tree 11 of 100\n",
      "building tree 12 of 100\n",
      "building tree 13 of 100\n",
      "building tree 14 of 100\n",
      "building tree 15 of 100\n",
      "building tree 16 of 100\n",
      "building tree 17 of 100\n",
      "building tree 18 of 100\n",
      "building tree 19 of 100\n",
      "building tree 20 of 100\n",
      "building tree 21 of 100\n",
      "building tree 22 of 100\n",
      "building tree 23 of 100\n",
      "building tree 24 of 100\n",
      "building tree 25 of 100\n",
      "building tree 26 of 100\n",
      "building tree 27 of 100\n",
      "building tree 28 of 100\n",
      "building tree 29 of 100\n",
      "building tree 30 of 100\n",
      "building tree 31 of 100\n",
      "building tree 32 of 100\n",
      "building tree 33 of 100\n",
      "building tree 34 of 100\n",
      "building tree 35 of 100\n",
      "building tree 36 of 100\n",
      "building tree 37 of 100\n",
      "building tree 38 of 100\n"
     ]
    },
    {
     "name": "stderr",
     "output_type": "stream",
     "text": [
      "[Parallel(n_jobs=3)]: Done  35 tasks      | elapsed: 11.1min\n"
     ]
    },
    {
     "name": "stdout",
     "output_type": "stream",
     "text": [
      "building tree 39 of 100\n",
      "building tree 40 of 100\n",
      "building tree 41 of 100\n",
      "building tree 42 of 100\n",
      "building tree 43 of 100\n",
      "building tree 44 of 100\n",
      "building tree 45 of 100\n",
      "building tree 46 of 100\n",
      "building tree 47 of 100\n",
      "building tree 48 of 100\n",
      "building tree 49 of 100\n",
      "building tree 50 of 100\n",
      "building tree 51 of 100\n",
      "building tree 52 of 100\n",
      "building tree 53 of 100\n",
      "building tree 54 of 100\n",
      "building tree 55 of 100\n",
      "building tree 56 of 100\n",
      "building tree 57 of 100\n",
      "building tree 58 of 100\n",
      "building tree 59 of 100\n",
      "building tree 60 of 100\n",
      "building tree 61 of 100\n",
      "building tree 62 of 100\n",
      "building tree 63 of 100\n",
      "building tree 64 of 100\n",
      "building tree 65 of 100\n",
      "building tree 66 of 100\n",
      "building tree 67 of 100\n",
      "building tree 68 of 100\n",
      "building tree 69 of 100\n",
      "building tree 70 of 100\n",
      "building tree 71 of 100\n",
      "building tree 72 of 100\n",
      "building tree 73 of 100\n",
      "building tree 74 of 100\n",
      "building tree 75 of 100\n",
      "building tree 76 of 100\n",
      "building tree 77 of 100\n",
      "building tree 78 of 100\n",
      "building tree 79 of 100\n",
      "building tree 80 of 100\n",
      "building tree 81 of 100\n",
      "building tree 82 of 100\n",
      "building tree 83 of 100\n",
      "building tree 84 of 100\n",
      "building tree 85 of 100\n",
      "building tree 86 of 100\n",
      "building tree 87 of 100\n",
      "building tree 88 of 100\n",
      "building tree 89 of 100\n",
      "building tree 90 of 100\n",
      "building tree 91 of 100\n",
      "building tree 92 of 100\n",
      "building tree 93 of 100\n",
      "building tree 94 of 100\n",
      "building tree 95 of 100\n",
      "building tree 96 of 100\n",
      "building tree 97 of 100\n",
      "building tree 98 of 100\n",
      "building tree 99 of 100\n",
      "building tree 100 of 100\n"
     ]
    },
    {
     "name": "stderr",
     "output_type": "stream",
     "text": [
      "[Parallel(n_jobs=3)]: Done 100 out of 100 | elapsed: 32.2min finished\n",
      "[Parallel(n_jobs=3)]: Using backend ThreadingBackend with 3 concurrent workers.\n",
      "[Parallel(n_jobs=3)]: Done  35 tasks      | elapsed:   19.4s\n",
      "[Parallel(n_jobs=3)]: Done 100 out of 100 | elapsed:   52.5s finished\n"
     ]
    },
    {
     "name": "stdout",
     "output_type": "stream",
     "text": [
      "0.9487450017463877\n"
     ]
    },
    {
     "data": {
      "text/plain": [
       "<matplotlib.axes._subplots.AxesSubplot at 0x284cb7065f8>"
      ]
     },
     "execution_count": 14,
     "metadata": {
      "tags": []
     },
     "output_type": "execute_result"
    },
    {
     "data": {
      "image/png": "[encoded data removed]",
      "text/plain": [
       "<Figure size 720x504 with 2 Axes>"
      ]
     },
     "metadata": {
      "needs_background": "light",
      "tags": []
     },
     "output_type": "display_data"
    }
   ],
   "source": [
    "### Random Forest GRAPH\n",
    "random_forest_clf = RandomForestClassifier(n_estimators=100, random_state=0, verbose=2, n_jobs=3)\n",
    "random_forest_clf.fit(X_train, y_train)\n",
    "y_pred_rf=random_forest_clf.predict(X_test)\n",
    "acc_rf= accuracy_score(y_test, y_pred_rf)\n",
    "print(acc_rf)\n"
   ]
  },
  {
   "cell_type": "code",
   "execution_count": 0,
   "metadata": {
    "colab": {},
    "colab_type": "code",
    "id": "JmWDeiNpstKu",
    "outputId": "4f08f8a4-8788-4a9c-f1a7-558a348e9282"
   },
   "outputs": [
    {
     "data": {
      "text/plain": [
       "<matplotlib.axes._subplots.AxesSubplot at 0x284c17d2048>"
      ]
     },
     "execution_count": 16,
     "metadata": {
      "tags": []
     },
     "output_type": "execute_result"
    },
    {
     "data": {
      "image/png": "[encoded data removed]",
      "text/plain": [
       "<Figure size 720x504 with 2 Axes>"
      ]
     },
     "metadata": {
      "tags": []
     },
     "output_type": "display_data"
    }
   ],
   "source": [
    "data = confusion_matrix(y_test, y_pred_rf)\n",
    "df_cm = pd.DataFrame(data, columns=np.unique(y_test), index = np.unique(y_test))\n",
    "pd.set_option('display.float_format', lambda x: '%.3f' % x)\n",
    "df_cm.index.name = 'Actual'\n",
    "df_cm.columns.name = 'Predicted'\n",
    "plt.figure(figsize = (10,7))\n",
    "sns.set(font_scale=1.4)#for label size\n",
    "sns.heatmap(df_cm, cmap=\"Blues\", annot=True,annot_kws={\"size\": 16})# font size"
   ]
  },
  {
   "cell_type": "code",
   "execution_count": 0,
   "metadata": {
    "colab": {},
    "colab_type": "code",
    "id": "tqy9ujukstKx",
    "outputId": "45c6bf57-bd61-41f1-d39e-5b108246cf27"
   },
   "outputs": [
    {
     "name": "stderr",
     "output_type": "stream",
     "text": [
      "[Parallel(n_jobs=3)]: Using backend LokyBackend with 3 concurrent workers.\n",
      "[Parallel(n_jobs=3)]: Done   3 out of   3 | elapsed: 156.9min finished\n",
      "[Parallel(n_jobs=3)]: Using backend LokyBackend with 3 concurrent workers.\n",
      "[Parallel(n_jobs=3)]: Done   3 out of   3 | elapsed:  2.1min finished\n"
     ]
    },
    {
     "name": "stdout",
     "output_type": "stream",
     "text": [
      "0.9513484678161471\n"
     ]
    }
   ],
   "source": [
    "# Bagging\n",
    "bg_clf = BaggingClassifier(n_estimators=100, n_jobs=3, verbose=2)\n",
    "bg_clf.fit(X_train, y_train)\n",
    "y_pred_bg= bg_clf.predict(X_test)\n",
    "acc_bg = accuracy_score(y_test, y_pred_bg)\n",
    "print(acc_bg)"
   ]
  },
  {
   "cell_type": "code",
   "execution_count": 0,
   "metadata": {
    "colab": {},
    "colab_type": "code",
    "id": "SmvzygsfstKz",
    "outputId": "d4ca7258-c4fb-46d6-a9a7-350551bba5c8"
   },
   "outputs": [
    {
     "data": {
      "text/plain": [
       "<matplotlib.axes._subplots.AxesSubplot at 0x284acf5b438>"
      ]
     },
     "execution_count": 18,
     "metadata": {
      "tags": []
     },
     "output_type": "execute_result"
    },
    {
     "data": {
      "image/png": "[encoded data removed]",
      "text/plain": [
       "<Figure size 720x504 with 2 Axes>"
      ]
     },
     "metadata": {
      "tags": []
     },
     "output_type": "display_data"
    }
   ],
   "source": [
    "data = confusion_matrix(y_test, y_pred_bg)\n",
    "df_cm = pd.DataFrame(data, columns=np.unique(y_test), index = np.unique(y_test))\n",
    "pd.set_option('display.float_format', lambda x: '%.3f' % x)\n",
    "df_cm.index.name = 'Actual'\n",
    "df_cm.columns.name = 'Predicted'\n",
    "plt.figure(figsize = (10,7))\n",
    "sns.set(font_scale=1.4)#for label size\n",
    "sns.heatmap(df_cm, cmap=\"Blues\", annot=True,annot_kws={\"size\": 16})# font size"
   ]
  },
  {
   "cell_type": "code",
   "execution_count": 0,
   "metadata": {
    "colab": {},
    "colab_type": "code",
    "id": "bCij7VYNstK2"
   },
   "outputs": [],
   "source": []
  }
 ],
 "metadata": {
  "colab": {
   "collapsed_sections": [],
   "name": "TP 1 Normalized.ipynb",
   "provenance": []
  },
  "kernelspec": {
   "display_name": "Python 3",
   "language": "python",
   "name": "python3"
  },
  "language_info": {
   "codemirror_mode": {
    "name": "ipython",
    "version": 3
   },
   "file_extension": ".py",
   "mimetype": "text/x-python",
   "name": "python",
   "nbconvert_exporter": "python",
   "pygments_lexer": "ipython3",
   "version": "3.7.7"
  }
 },
 "nbformat": 4,
 "nbformat_minor": 1
}
